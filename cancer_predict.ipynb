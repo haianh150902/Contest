{
 "cells": [
  {
   "cell_type": "markdown",
   "metadata": {},
   "source": [
    "# Load packages"
   ]
  },
  {
   "cell_type": "code",
   "execution_count": null,
   "metadata": {},
   "outputs": [],
   "source": [
    "import numpy as np\n",
    "import pandas as pd \n",
    "import matplotlib.pyplot as plt\n",
    "%matplotlib inline"
   ]
  },
  {
   "cell_type": "code",
   "execution_count": null,
   "metadata": {},
   "outputs": [],
   "source": [
    "import seaborn as sns\n",
    "from scipy import stats\n",
    "from statistics import stdev"
   ]
  },
  {
   "cell_type": "markdown",
   "metadata": {},
   "source": [
    "# Load data"
   ]
  },
  {
   "cell_type": "code",
   "execution_count": null,
   "metadata": {},
   "outputs": [],
   "source": [
    "df = pd.read_excel(\"D:/BA/Contest/cancer_datasets.xlsx\")\n",
    "df.head(10)"
   ]
  },
  {
   "cell_type": "markdown",
   "metadata": {},
   "source": [
    "# Check data"
   ]
  },
  {
   "cell_type": "code",
   "execution_count": null,
   "metadata": {},
   "outputs": [],
   "source": [
    "df.shape"
   ]
  },
  {
   "cell_type": "code",
   "execution_count": null,
   "metadata": {},
   "outputs": [],
   "source": [
    "df.info()"
   ]
  },
  {
   "cell_type": "code",
   "execution_count": null,
   "metadata": {},
   "outputs": [],
   "source": [
    "df.describe().round(2)"
   ]
  },
  {
   "cell_type": "code",
   "execution_count": null,
   "metadata": {},
   "outputs": [],
   "source": [
    "df.isnull().sum()"
   ]
  },
  {
   "cell_type": "markdown",
   "metadata": {},
   "source": [
    "# Data Exploration"
   ]
  },
  {
   "cell_type": "code",
   "execution_count": null,
   "metadata": {},
   "outputs": [],
   "source": [
    "df['Level'].value_counts()"
   ]
  },
  {
   "cell_type": "code",
   "execution_count": null,
   "metadata": {},
   "outputs": [],
   "source": [
    "plt.figure(figsize=(6,6))\n",
    "plt.title('Cancer Rate \\nCountplot')\n",
    "sns.countplot(x= 'Level', data= df, palette= 'pastel')"
   ]
  },
  {
   "cell_type": "markdown",
   "metadata": {},
   "source": [
    "# EDA"
   ]
  },
  {
   "cell_type": "markdown",
   "metadata": {},
   "source": [
    "Age, Gender and Cancer Level of patient"
   ]
  },
  {
   "cell_type": "code",
   "execution_count": null,
   "metadata": {},
   "outputs": [],
   "source": [
    "df[['Age', 'Gender']].describe().round(2)"
   ]
  },
  {
   "cell_type": "code",
   "execution_count": null,
   "metadata": {},
   "outputs": [],
   "source": [
    "def boxplot_create(x, y, z, width, color):\n",
    "    plt.figure(figsize = (width, 8))\n",
    "    sns.boxplot(x = x, y = y, hue = z, data = df, palette = color, showfliers = False)"
   ]
  },
  {
   "cell_type": "code",
   "execution_count": null,
   "metadata": {},
   "outputs": [],
   "source": [
    "boxplot_create('Level', 'Age', 'Gender',  8, 'Set2')"
   ]
  },
  {
   "cell_type": "markdown",
   "metadata": {},
   "source": [
    "Personal Risks (Occupational & Genetic) related to Cancer Level"
   ]
  },
  {
   "cell_type": "code",
   "execution_count": null,
   "metadata": {},
   "outputs": [],
   "source": [
    "plt.figure(figsize = (5, 5))\n",
    "sns.scatterplot(data=df, x='OccuPational Hazards', y='Genetic Risk', hue='Level' ,palette='tab10')"
   ]
  },
  {
   "cell_type": "markdown",
   "metadata": {},
   "source": [
    "Background Diseases of patients and their impact on Cancer Level"
   ]
  },
  {
   "cell_type": "code",
   "execution_count": null,
   "metadata": {},
   "outputs": [],
   "source": [
    "background_diseases = df[['chronic Lung Disease', 'Obesity', 'Swallowing Difficulty', 'Level']]"
   ]
  },
  {
   "cell_type": "code",
   "execution_count": null,
   "metadata": {},
   "outputs": [],
   "source": [
    "sns.pairplot(data = background_diseases, hue = 'Level',palette= 'YlOrBr', kind= 'hist', height= 2)"
   ]
  },
  {
   "cell_type": "markdown",
   "metadata": {},
   "source": [
    "Overview of Impact of Internal Factor(Smoking) and External Factor(Passive Smoker)"
   ]
  },
  {
   "cell_type": "code",
   "execution_count": null,
   "metadata": {},
   "outputs": [],
   "source": [
    "plt.figure(figsize= (8,8))\n",
    "plt.title('Internal Factor(Smoking) impact')\n",
    "sns.countplot(data=df, x='Level', hue= 'Smoking', palette= 'mako_r')"
   ]
  },
  {
   "cell_type": "code",
   "execution_count": null,
   "metadata": {},
   "outputs": [],
   "source": [
    "plt.figure(figsize= (8,8))\n",
    "plt.title('External Factor(Passive Smoker) impact')\n",
    "sns.countplot(data=df, x='Level', hue= 'Passive Smoker', palette= 'flare')"
   ]
  },
  {
   "cell_type": "markdown",
   "metadata": {},
   "source": [
    "# Features correlation"
   ]
  },
  {
   "cell_type": "code",
   "execution_count": null,
   "metadata": {},
   "outputs": [],
   "source": [
    "habits = df[['Alcohol use', 'Balanced Diet', 'Smoking', 'Snoring']]\n",
    "corr1 = habits.corr()"
   ]
  },
  {
   "cell_type": "code",
   "execution_count": null,
   "metadata": {},
   "outputs": [],
   "source": [
    "plt.figure(figsize= (8,8))\n",
    "plt.title('Impact of Routine Habits on Cancer Level \\nCorrelation Plot')\n",
    "sns.heatmap(corr1, xticklabels = corr1.columns, yticklabels = corr1.columns, \n",
    "            cmap= 'viridis', linewidths=.1, vmax = 1, vmin = -1)"
   ]
  },
  {
   "cell_type": "code",
   "execution_count": null,
   "metadata": {},
   "outputs": [],
   "source": [
    "r_issues = df[['Chest Pain', 'Shortness of Breath', 'Wheezing', 'Coughing of Blood',]]\n",
    "corr2 = r_issues.corr()"
   ]
  },
  {
   "cell_type": "code",
   "execution_count": null,
   "metadata": {},
   "outputs": [],
   "source": [
    "plt.figure(figsize= (8,8))\n",
    "plt.title('Relation of Respiratory issues on Cancer Level \\nCorrelation Plot')\n",
    "sns.heatmap(corr2, xticklabels = corr2.columns, yticklabels = corr2.columns, \n",
    "            cmap= 'rocket', linewidths=.1, vmax = 1, vmin = -1)"
   ]
  },
  {
   "cell_type": "code",
   "execution_count": null,
   "metadata": {},
   "outputs": [],
   "source": [
    "symptoms = df[[ 'Fatigue', 'Weight Loss', 'Frequent Cold', 'Clubbing of Finger Nails']]\n",
    "corr3 = symptoms.corr()"
   ]
  },
  {
   "cell_type": "code",
   "execution_count": null,
   "metadata": {},
   "outputs": [],
   "source": [
    "plt.figure(figsize= (8,8))\n",
    "plt.title('Symptoms based on Cancer Level \\nCorrelation Plot')\n",
    "sns.heatmap(corr3, xticklabels = corr3.columns, yticklabels = corr3.columns, \n",
    "            cmap= 'mako', linewidths=.1, vmax = 1, vmin = -1)"
   ]
  },
  {
   "cell_type": "markdown",
   "metadata": {},
   "source": [
    "# Feature Selection"
   ]
  },
  {
   "cell_type": "markdown",
   "metadata": {},
   "source": [
    "Though there are a lot of variables to look at we can we can just find the most important ones by using the SelectKBest Algorithm with ANOVA F-ratio statistic. This method will generate the F-ratio scores of all features and we can determine which ones to use for machine learning."
   ]
  },
  {
   "cell_type": "code",
   "execution_count": null,
   "metadata": {},
   "outputs": [],
   "source": [
    "from sklearn.feature_selection import SelectKBest \n",
    "from sklearn.feature_selection import f_classif "
   ]
  },
  {
   "cell_type": "code",
   "execution_count": null,
   "metadata": {},
   "outputs": [],
   "source": [
    "X=df.drop(['Level','Patient Id'], axis=1)\n",
    "Y=df['Level']\n",
    "bestfeatures = SelectKBest(score_func=f_classif, k='all')\n",
    "fit = bestfeatures.fit(X,Y)\n",
    "dfscores = pd.DataFrame(fit.scores_)\n",
    "dfcolumns = pd.DataFrame(X.columns)"
   ]
  },
  {
   "cell_type": "code",
   "execution_count": null,
   "metadata": {},
   "outputs": [],
   "source": [
    "featureScores = pd.concat([dfcolumns,dfscores],axis=1)\n",
    "featureScores.columns = ['Feature','Score'] "
   ]
  },
  {
   "cell_type": "code",
   "execution_count": null,
   "metadata": {},
   "outputs": [],
   "source": [
    "plt.figure(figsize = (10, 10))\n",
    "sns.barplot(data=featureScores, x='Score', y='Feature', palette='viridis',linewidth=0.5, saturation=2, orient='h')\n"
   ]
  },
  {
   "cell_type": "code",
   "execution_count": null,
   "metadata": {},
   "outputs": [],
   "source": [
    "selection=featureScores[featureScores['Score']>=200]\n",
    "selection=list(selection['Feature'])\n",
    "selection.append('Level')\n",
    "cancer=df[selection]\n",
    "cancer.head(10)"
   ]
  },
  {
   "cell_type": "markdown",
   "metadata": {},
   "source": [
    "# Preprocessing data"
   ]
  },
  {
   "cell_type": "code",
   "execution_count": null,
   "metadata": {},
   "outputs": [],
   "source": [
    "y_data = cancer['Level'].replace({'Low', 'Medium', 'High'}, {0, 1, 2})\n",
    "x_data = cancer.drop('Level', axis=1)"
   ]
  },
  {
   "cell_type": "code",
   "execution_count": null,
   "metadata": {},
   "outputs": [],
   "source": [
    "from sklearn import preprocessing\n",
    "scaler=preprocessing.StandardScaler()"
   ]
  },
  {
   "cell_type": "code",
   "execution_count": null,
   "metadata": {},
   "outputs": [],
   "source": [
    "from sklearn.model_selection import train_test_split"
   ]
  },
  {
   "cell_type": "code",
   "execution_count": null,
   "metadata": {},
   "outputs": [],
   "source": [
    "x_train, x_test, y_train, y_test = train_test_split(x_data, \n",
    "                                                    y_data, \n",
    "                                                    test_size = 0.35,\n",
    "                                                    random_state=0, \n",
    "                                                    shuffle=True)"
   ]
  },
  {
   "cell_type": "code",
   "execution_count": null,
   "metadata": {},
   "outputs": [],
   "source": [
    "x_test = scaler.fit_transform(x_test)\n",
    "x_train = scaler.fit_transform(x_train)"
   ]
  },
  {
   "cell_type": "code",
   "execution_count": null,
   "metadata": {},
   "outputs": [],
   "source": [
    "print(\"X_train shape :\",x_train.shape)\n",
    "print(\"Y_train shape :\",y_train.shape)\n",
    "print(\"X_test shape :\",x_test.shape)\n",
    "print(\"Y_test shape :\",y_test.shape)"
   ]
  },
  {
   "cell_type": "markdown",
   "metadata": {},
   "source": [
    "# Machine Learning Model"
   ]
  },
  {
   "cell_type": "markdown",
   "metadata": {},
   "source": [
    "The size of the input data is relatively small, so at first, we would like to perform 2 simple machine learning models, which is Decision Tree Classifier and Random Forest Classifier. Decision trees are implemented when it involves a mixture of feature data types and easy interpretation. The random forest algorithm model handles multiple trees so that the performance is not affected. "
   ]
  },
  {
   "cell_type": "code",
   "execution_count": null,
   "metadata": {},
   "outputs": [],
   "source": [
    "from sklearn.metrics import accuracy_score, classification_report, confusion_matrix"
   ]
  },
  {
   "cell_type": "markdown",
   "metadata": {},
   "source": [
    "* Decision Tree Classifier"
   ]
  },
  {
   "cell_type": "code",
   "execution_count": null,
   "metadata": {},
   "outputs": [],
   "source": [
    "from sklearn import tree\n",
    "dt = tree.DecisionTreeClassifier()\n",
    "dt.fit(x_train,y_train)\n",
    "y_dt = dt.predict(x_test)"
   ]
  },
  {
   "cell_type": "code",
   "execution_count": null,
   "metadata": {},
   "outputs": [],
   "source": [
    "score_dt = accuracy_score(y_test, y_dt)\n",
    "score_dt"
   ]
  },
  {
   "cell_type": "code",
   "execution_count": null,
   "metadata": {},
   "outputs": [],
   "source": [
    "cfm_dt = pd.crosstab(y_test, y_dt, rownames=['Y_test'], colnames= ['Y_predict'])\n",
    "plt.figure(figsize=(6,6))\n",
    "plt.title('Confusion Matrix')\n",
    "sns.heatmap(cfm_dt, annot= True, linewidths=.2, linecolor= 'Darkblue', cmap= 'Blues')"
   ]
  },
  {
   "cell_type": "code",
   "execution_count": null,
   "metadata": {},
   "outputs": [],
   "source": [
    "print(classification_report(y_test, y_dt))"
   ]
  },
  {
   "cell_type": "markdown",
   "metadata": {},
   "source": [
    "* Random Forest Classifier"
   ]
  },
  {
   "cell_type": "code",
   "execution_count": null,
   "metadata": {},
   "outputs": [],
   "source": [
    "from sklearn.ensemble import RandomForestClassifier\n",
    "rf = RandomForestClassifier()\n",
    "rf.fit(x_train, y_train)\n",
    "y_rf = rf.predict(x_test)"
   ]
  },
  {
   "cell_type": "code",
   "execution_count": null,
   "metadata": {},
   "outputs": [],
   "source": [
    "score_rf = accuracy_score(y_test, y_rf)\n",
    "score_rf"
   ]
  },
  {
   "cell_type": "code",
   "execution_count": null,
   "metadata": {},
   "outputs": [],
   "source": [
    "cfm_rf = pd.crosstab(y_test, y_rf, rownames=['Y_test'], colnames= ['Y_predict'])\n",
    "plt.figure(figsize=(6,6))\n",
    "plt.title('Confusion Matrix')\n",
    "sns.heatmap(cfm_rf, annot= True, linewidths=.2, linecolor= 'Darkred', cmap= 'Reds')"
   ]
  },
  {
   "cell_type": "code",
   "execution_count": null,
   "metadata": {},
   "outputs": [],
   "source": [
    "print(classification_report(y_test, y_rf))"
   ]
  },
  {
   "cell_type": "markdown",
   "metadata": {},
   "source": [
    "As we can see, the accuracy indexs of 2 models above is absolutely too high, which mean these simple models are overfitting or the data is not big enough. To reach the best results of the research without getting overfitted, we will continue building 2 advanced models. Moreover, to avoid the same problems above, we will search for the most appropriate function and parameters, then we will take a cross-validation.   "
   ]
  },
  {
   "cell_type": "markdown",
   "metadata": {},
   "source": [
    "# Advanced Machine Learning Model"
   ]
  },
  {
   "cell_type": "markdown",
   "metadata": {},
   "source": [
    "We will use the support vector machines classifiers (SVC). The SVC's can handle higher dimensional data and genearte hyperplanes for separation. We can evalute multiple parameters at one using Grid or Randomization Search functions. Grid Search evalutes several input parameters at all combinations input while randomized search looks for the best."
   ]
  },
  {
   "cell_type": "code",
   "execution_count": null,
   "metadata": {},
   "outputs": [],
   "source": [
    "from sklearn.svm import SVC \n",
    "from sklearn.model_selection import cross_val_score, RandomizedSearchCV, GridSearchCV \n",
    "import itertools "
   ]
  },
  {
   "cell_type": "markdown",
   "metadata": {},
   "source": [
    "* Grid Search"
   ]
  },
  {
   "cell_type": "code",
   "execution_count": null,
   "metadata": {},
   "outputs": [],
   "source": [
    "svm_grid= {\n",
    "    \"C\": [.01, .1, 1, 5, 10, 100], \n",
    "    \"gamma\": [0, .01, .1, 1, 5, 10, 100],\n",
    "    \"kernel\": ['linear', 'poly', 'rbf'],\n",
    "    \"random_state\": [1]}"
   ]
  },
  {
   "cell_type": "code",
   "execution_count": null,
   "metadata": {},
   "outputs": [],
   "source": [
    "gs = GridSearchCV(\n",
    "    estimator=SVC(), \n",
    "    param_grid=svm_grid, \n",
    "    scoring=None,\n",
    "    n_jobs=-1, \n",
    "    cv=10, \n",
    "    verbose=0,\n",
    "    return_train_score=True\n",
    "    )"
   ]
  },
  {
   "cell_type": "code",
   "execution_count": null,
   "metadata": {},
   "outputs": [],
   "source": [
    "gs.fit(x_train, y_train)"
   ]
  },
  {
   "cell_type": "code",
   "execution_count": null,
   "metadata": {},
   "outputs": [],
   "source": [
    "y_gs = gs.predict(x_test)"
   ]
  },
  {
   "cell_type": "code",
   "execution_count": null,
   "metadata": {},
   "outputs": [],
   "source": [
    "cfm_gs = pd.crosstab(y_test, y_gs, rownames=['Y_test'], colnames= ['Y_predict'])\n",
    "plt.figure(figsize=(6,6))\n",
    "plt.title('Confusion Matrix')\n",
    "sns.heatmap(cfm_gs, annot= True, linewidths=.2, linecolor= 'Darkgreen', cmap= 'Greens')"
   ]
  },
  {
   "cell_type": "code",
   "execution_count": null,
   "metadata": {},
   "outputs": [],
   "source": [
    "print(\"**Grid search results of SVC Grid Search**\")\n",
    "print(\"The best parameters are:\",gs.best_params_)\n",
    "print(\"Best training accuracy:\\t\", gs.best_score_)\n",
    "print('Classification Report:')\n",
    "print(classification_report(y_test, y_gs))"
   ]
  },
  {
   "cell_type": "markdown",
   "metadata": {},
   "source": [
    "* Randomized Search"
   ]
  },
  {
   "cell_type": "code",
   "execution_count": null,
   "metadata": {},
   "outputs": [],
   "source": [
    "svm_rds = {\n",
    "    \"C\": np.arange(0.01,2, 0.01),   \n",
    "    \"gamma\": np.arange(0,1, 0.01),\n",
    "    \"kernel\": [\"rbf\",\"linear\",\"poly\"],\n",
    "    \"random_state\": [1]}"
   ]
  },
  {
   "cell_type": "code",
   "execution_count": null,
   "metadata": {},
   "outputs": [],
   "source": [
    "rds = RandomizedSearchCV(\n",
    "    estimator=SVC(),\n",
    "    param_distributions=svm_rds,\n",
    "    n_iter=10,\n",
    "    n_jobs=-1,\n",
    "    cv=10,\n",
    "    verbose=0,\n",
    "    random_state=1,\n",
    "    return_train_score=True\n",
    ")"
   ]
  },
  {
   "cell_type": "code",
   "execution_count": null,
   "metadata": {},
   "outputs": [],
   "source": [
    "rds.fit(x_train, y_train)"
   ]
  },
  {
   "cell_type": "code",
   "execution_count": null,
   "metadata": {},
   "outputs": [],
   "source": [
    "y_rds = rds.predict(x_test)"
   ]
  },
  {
   "cell_type": "code",
   "execution_count": null,
   "metadata": {},
   "outputs": [],
   "source": [
    "cfm_rds = pd.crosstab(y_test, y_rds, rownames=['Y_test'], colnames= ['Y_predict'])\n",
    "plt.figure(figsize=(6,6))\n",
    "plt.title('Confusion Matrix')\n",
    "sns.heatmap(cfm_rds, annot= True, linewidths=.2, linecolor= 'Grey', cmap= 'Greys')"
   ]
  },
  {
   "cell_type": "code",
   "execution_count": null,
   "metadata": {},
   "outputs": [],
   "source": [
    "print(\"**Grid search results of SVC Randomized Search**\")\n",
    "print(\"The best parameters are:\",rds.best_params_)\n",
    "print(\"Best training accuracy:\\t\", rds.best_score_)\n",
    "print('Classification Report:')\n",
    "print(classification_report(y_test, y_rds))"
   ]
  },
  {
   "cell_type": "markdown",
   "metadata": {},
   "source": [
    "# Conclusion"
   ]
  },
  {
   "cell_type": "markdown",
   "metadata": {},
   "source": [
    "We investigated the data, checking for data correlationship, visualizing the features and understanding the relationship between different features. Through EDA and Modelling of the Data, we observed that:"
   ]
  },
  {
   "cell_type": "markdown",
   "metadata": {},
   "source": [
    "* Many features have some prominent separation alone for distincting the level of cancer.\n",
    "* Using KBestSelection we were able to use the most important features that have the most effect on the Result(Cancer Level) from the dataset.\n",
    "* The 2 simple machine learning models all result to highest level of accuracy because of the small size of data in general and train data in particular.\n",
    "* The 13 selected features provided 100% accuracy when modeled with either Grid/Randomized Searches on support vector machine classifier."
   ]
  }
 ],
 "metadata": {
  "kernelspec": {
   "display_name": "Python 3.9.12 ('base')",
   "language": "python",
   "name": "python3"
  },
  "language_info": {
   "codemirror_mode": {
    "name": "ipython",
    "version": 3
   },
   "file_extension": ".py",
   "mimetype": "text/x-python",
   "name": "python",
   "nbconvert_exporter": "python",
   "pygments_lexer": "ipython3",
   "version": "3.9.12"
  },
  "orig_nbformat": 4,
  "vscode": {
   "interpreter": {
    "hash": "0d7cb641e9f2ca8a137a9da85846705aa282cc4a4e1023270a6d1fc6373bca75"
   }
  }
 },
 "nbformat": 4,
 "nbformat_minor": 2
}
